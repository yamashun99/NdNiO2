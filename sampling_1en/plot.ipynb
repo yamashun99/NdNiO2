{
 "cells": [
  {
   "cell_type": "code",
   "execution_count": 1,
   "metadata": {},
   "outputs": [
    {
     "name": "stdout",
     "output_type": "stream",
     "text": [
      "Warning: could not identify MPI environment!\n",
      "Warning: No Sigma set but parameter with_Sigma=True, calculating Gloc without Sigma.\n"
     ]
    },
    {
     "name": "stderr",
     "output_type": "stream",
     "text": [
      "Starting serial run at: 2024-09-16 20:21:45.011867\n",
      "/home/yamamoto/apps/triqs/triqs.build/lib/python3.10/site-packages/triqs_dft_tools/sumk_dft.py:884: UserWarning: WARNING: No density matrix given. Calculating density matrix with default parameters. This will be deprecated in future releases.\n",
      "  warn(\"WARNING: No density matrix given. Calculating density matrix with default parameters. This will be deprecated in future releases.\")\n",
      "/home/yamamoto/apps/triqs/triqs.build/lib/python3.10/site-packages/triqs_dft_tools/sumk_dft.py:1565: UserWarning: WARNING: density_matrix: method 'using_gf' is deprecated. Use 'extract_G_loc' instead.\n",
      "  warn(\"WARNING: density_matrix: method 'using_gf' is deprecated. Use 'extract_G_loc' instead.\")\n"
     ]
    }
   ],
   "source": [
    "from triqs_maxent import *\n",
    "import numpy as np\n",
    "from h5 import HDFArchive\n",
    "from triqs.gf import make_gf_from_fourier\n",
    "from triqs.plot.mpl_interface import oplot, plt\n",
    "from triqs_dft_tools.sumk_dft import *\n",
    "\n",
    "h_field = 0.0\n",
    "beta = 10\n",
    "dft_filename = f\"nsp_b{beta}_h{h_field}\"\n",
    "use_blocks = True  # use bloc structure from DFT input\n",
    "prec_mu = 0.0001  # precision of chemical potential\n",
    "norb = 18\n",
    "\n",
    "SK = SumkDFT(hdf_file=dft_filename + \".h5\", use_dft_blocks=use_blocks, beta=beta)\n",
    "\n",
    "iteration_offset = 10\n",
    "with HDFArchive(dft_filename + \".h5\") as ar:\n",
    "    G_latt_orb = ar[\"DMFT_results\"][\"Iterations\"][\n",
    "        \"G_latt_orb_it\" + str(iteration_offset - 1)\n",
    "    ]"
   ]
  }
 ],
 "metadata": {
  "kernelspec": {
   "display_name": "triqsenv",
   "language": "python",
   "name": "python3"
  },
  "language_info": {
   "codemirror_mode": {
    "name": "ipython",
    "version": 3
   },
   "file_extension": ".py",
   "mimetype": "text/x-python",
   "name": "python",
   "nbconvert_exporter": "python",
   "pygments_lexer": "ipython3",
   "version": "3.10.12"
  }
 },
 "nbformat": 4,
 "nbformat_minor": 2
}
